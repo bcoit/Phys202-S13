{
 "metadata": {
  "name": "TrafficFlow"
 },
 "nbformat": 3,
 "nbformat_minor": 0,
 "worksheets": [
  {
   "cells": [
    {
     "cell_type": "code",
     "collapsed": false,
     "input": [
      "def CA184(cars,l,v_max):\n",
      "    \"\"\"takes an array of car positions and initial velocities, a road length, and a maximum velocity as arguments. Returns\n",
      "the final positions and velocities of the cars after one time step by moving all the cars at once, following the CA184\n",
      "model.  In this model there is no possibility of random slow-downs\"\"\"\n",
      "    xi = cars[0,:]\n",
      "    vi = cars[1,:]\n",
      "    a = np.zeros(xi.shape)\n",
      "    for i in range(0,len(xi)):\n",
      "        a[i] = xi[i]\n",
      "        if i <= len(xi)-2 and xi[i] < xi[i+1]:\n",
      "            b = xi[i+1]\n",
      "        \n",
      "        elif i <= len(xi)-2 and xi[i] > xi[i+1]:\n",
      "            b = l + xi[i+1]\n",
      "            \n",
      "        else:\n",
      "            if xi[i] < xi[0]:\n",
      "                b = xi[0]\n",
      "            elif xi[i] > xi[0]:\n",
      "                b = l + xi[0]\n",
      "\n",
      "        gi = b-a[i]-1\n",
      "        if vi[i] > gi:\n",
      "            vi[i] = gi\n",
      "        elif vi[i] < gi and vi[i] < v_max:\n",
      "            vi[i] += 1\n",
      "        a[i] += vi[i]\n",
      "        if a[i] > l:\n",
      "            a[i] = a[i]-l\n",
      "    \n",
      "    for j in range(0,len(xi)):\n",
      "        xi[j] = xi[j] + a[j]\n",
      "    \n",
      "    cars = np.array([xi,vi])\n",
      "    return cars\n",
      "    "
     ],
     "language": "python",
     "metadata": {},
     "outputs": [],
     "prompt_number": 89
    },
    {
     "cell_type": "code",
     "collapsed": false,
     "input": [
      "def STCA(cars,l,v_max,p):\n",
      "    \"\"\"Takes an array of car positions and initial velocities, a road length, a maximum velocity and a random slow-down probability p\n",
      "as arguments.  The final position and velocities of the cars are returned after one time step.  The cars are all moved at once, and \n",
      "the velocities are allowed to randomly decrease by 1 according to the probabilty p, allowing for random slow-downs, following the STCA\n",
      "model of traffic flow\"\"\""
     ],
     "language": "python",
     "metadata": {},
     "outputs": [],
     "prompt_number": 80
    },
    {
     "cell_type": "code",
     "collapsed": false,
     "input": [
      "def ASEP(cars,l,v_max):\n",
      "    \"\"\"Takes an array of car positions and initial velocities, a road length, and a maximum velocity as arguments. The final\n",
      "positions and velocities of the cars are then returned after one time step.  The cars are moved one at a time following the \n",
      "ASEP model of traffic flow\"\"\"\n",
      "    xi = cars[0,:]\n",
      "    vi = cars[1,:]\n",
      "    for i in range(0,len(xi)):\n",
      "        a = xi[i]\n",
      "        if i <= len(xi)-2 and xi[i] < xi[i+1]:\n",
      "            b = xi[i+1]\n",
      "        \n",
      "        elif i <= len(xi)-2 and xi[i] > xi[i+1]:\n",
      "            b = l + xi[i+1]\n",
      "            \n",
      "        else:\n",
      "            if xi[i] < xi[0]:\n",
      "                b = xi[0]\n",
      "            elif xi[i] > xi[0]:\n",
      "                b = l + xi[0]\n",
      "\n",
      "        gi = b-a-1\n",
      "        if vi[i] > gi:\n",
      "            vi[i] = gi\n",
      "        elif vi[i] < gi and vi[i] < v_max:\n",
      "            vi[i] += 1\n",
      "        \n",
      "        a += vi[i]\n",
      "        if a > l:\n",
      "            a = a - l\n",
      "        xi[i] = a\n",
      "            \n",
      "    cars = np.array([xi,vi])\n",
      "    return cars\n",
      "        "
     ],
     "language": "python",
     "metadata": {},
     "outputs": [],
     "prompt_number": 81
    },
    {
     "cell_type": "code",
     "collapsed": false,
     "input": [
      "import numpy as np\n",
      "def create_road(num_cars,l,v_max):\n",
      "    xi = np.sort(np.random.random_integers(1,l,num_cars))\n",
      "    for i in range(0,len(xi)-1):\n",
      "        if xi[i] == xi[i+1]: #Preventing two cars from initially occupying same space (it doesn't work yet though)\n",
      "            xi[i] = np.random.random_integers(1,l)\n",
      "            xi = np.sort(xi) \n",
      "    vi = np.random.random_integers(0,v_max,num_cars)\n",
      "    cars = np.array([xi,vi])\n",
      "    return cars"
     ],
     "language": "python",
     "metadata": {},
     "outputs": [],
     "prompt_number": 77
    },
    {
     "cell_type": "code",
     "collapsed": false,
     "input": [
      "l = 40\n",
      "num_cars = 8\n",
      "v_max = 6\n",
      "cars = create_road(num_cars,l,v_max)\n",
      "print cars"
     ],
     "language": "python",
     "metadata": {},
     "outputs": [
      {
       "output_type": "stream",
       "stream": "stdout",
       "text": [
        "[[ 1  2  5 14 20 23 30 31]\n",
        " [ 6  1  2  2  1  5  1  2]]\n"
       ]
      }
     ],
     "prompt_number": 87
    },
    {
     "cell_type": "code",
     "collapsed": false,
     "input": [
      "ASEP(cars,40,4)"
     ],
     "language": "python",
     "metadata": {},
     "outputs": [
      {
       "output_type": "pyout",
       "prompt_number": 54,
       "text": [
        "array([[10, 15, 17, 19, 21, 24, 28, 33, 38,  3,  8, 14, 33, 35, 38, 39, 40,\n",
        "         2,  5,  9],\n",
        "       [ 3,  4,  1,  1,  1,  2,  3,  4,  4,  4,  4,  4,  0,  1,  2,  0,  0,\n",
        "         1,  2,  3]])"
       ]
      }
     ],
     "prompt_number": 54
    },
    {
     "cell_type": "code",
     "collapsed": false,
     "input": [
      "CA184(cars,40,4)"
     ],
     "language": "python",
     "metadata": {},
     "outputs": [
      {
       "output_type": "pyout",
       "prompt_number": 79,
       "text": [
        "array([[ 7, 11, 14, 17, 18, 24, 28, 30, 32, 34, 37, 40, 43, 43, 54, 59, 62,\n",
        "        65, 68, 72],\n",
        "       [ 1,  1,  0,  1,  2,  2,  0,  0,  0,  0,  1,  0,  1,  1,  2,  1,  0,\n",
        "         1,  0,  2]])"
       ]
      }
     ],
     "prompt_number": 79
    },
    {
     "cell_type": "code",
     "collapsed": false,
     "input": [
      "def mult_time_steps(N,method,cars,l,v_max,p):\n",
      "    if method == CA184:\n",
      "        for i in range(N):\n",
      "            CA184(cars,l,v_max)\n",
      "    if method == STCA:\n",
      "        for i in range(N):\n",
      "            STCA(cars,l,v_max,p)\n",
      "    if method == ASEP:\n",
      "        for i in range(N):\n",
      "            ASEP(cars,l,v_max)\n",
      "    return cars"
     ],
     "language": "python",
     "metadata": {},
     "outputs": [],
     "prompt_number": 86
    },
    {
     "cell_type": "code",
     "collapsed": false,
     "input": [
      "mult_time_steps(10,ASEP,cars,l,v_max,0)"
     ],
     "language": "python",
     "metadata": {},
     "outputs": [
      {
       "output_type": "pyout",
       "prompt_number": 88,
       "text": [
        "array([[30, 35,  1,  8, 15, 22, 25, 29],\n",
        "       [ 3,  4,  5,  6,  6,  6,  2,  3]])"
       ]
      }
     ],
     "prompt_number": 88
    },
    {
     "cell_type": "code",
     "collapsed": false,
     "input": [],
     "language": "python",
     "metadata": {},
     "outputs": []
    }
   ],
   "metadata": {}
  }
 ]
}