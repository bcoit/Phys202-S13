{
 "metadata": {
  "name": "TrafficFlow"
 },
 "nbformat": 3,
 "nbformat_minor": 0,
 "worksheets": [
  {
   "cells": [
    {
     "cell_type": "heading",
     "level": 3,
     "metadata": {},
     "source": [
      "Creating the road"
     ]
    },
    {
     "cell_type": "markdown",
     "metadata": {},
     "source": [
      "To create the road, I defined a function that randomly inserts each car into a road of length L.  I use the while loop to check that there isn't already a car in the space so that there aren't any cars initially placed on top of each other.  The outputs are the road array, an x array with each cars initial position, and a v array with each cars initial velocity.  These are all inputs needed for the other functions."
     ]
    },
    {
     "cell_type": "code",
     "collapsed": false,
     "input": [
      "def create_road(L,cars,v_max):\n",
      "    \"\"\"Sets up the road, initial position, and initial velocity arrays to be used as inputs for the traffic flow functions\"\"\"\n",
      "    road = np.zeros(L, int)\n",
      "    x = np.zeros(cars, int)\n",
      "    v = np.zeros(cars, int)\n",
      "    each_car = 1\n",
      "    while (each_car <= cars):\n",
      "        i = randint(0,L)\n",
      "        if road[i] == 0: #check to make sure there isn't already a car in this position\n",
      "            x[each_car-1] = i\n",
      "            road[i] = each_car\n",
      "            v[each_car-1] = randint(0,v_max) #assign each car a random initial velocity between 0 and the maximum velocity(speed limit)\n",
      "            each_car += 1\n",
      "    return road, x, v"
     ],
     "language": "python",
     "metadata": {},
     "outputs": [],
     "prompt_number": 1
    },
    {
     "cell_type": "heading",
     "level": 5,
     "metadata": {},
     "source": [
      "Test for the create_road function:"
     ]
    },
    {
     "cell_type": "code",
     "collapsed": false,
     "input": [
      "road1, xi, vi = create_road(40,5,10)  \n",
      "print road1, xi, vi"
     ],
     "language": "python",
     "metadata": {},
     "outputs": [
      {
       "output_type": "stream",
       "stream": "stdout",
       "text": [
        "[0 0 0 0 0 0 0 5 0 0 1 0 0 0 0 3 0 0 0 0 0 2 0 0 0 4 0 0 0 0 0 0 0 0 0 0 0\n",
        " 0 0 0] [10 21 15 25  7] [2 9 7 5 3]\n"
       ]
      }
     ],
     "prompt_number": 157
    },
    {
     "cell_type": "heading",
     "level": 3,
     "metadata": {},
     "source": [
      "Calculating gi"
     ]
    },
    {
     "cell_type": "markdown",
     "metadata": {},
     "source": [
      "Now that the road is created, I want to find the spacing between each car, g.  I will need one function to find g for the CA184 and STCA models, which will create an array of g values, and one function to find g for the ASEP model which will return a single value of g."
     ]
    },
    {
     "cell_type": "code",
     "collapsed": false,
     "input": [
      "def g_for_STCA(x, v, road):\n",
      "    \"\"\"Takes x, v, and road arrays as arguments and calculates the spacing between each car.  The output is a gi array to be used in the\n",
      "STCA and CA184 traffic models so that all cars can be moved in one time step instead of one at a time.\"\"\"\n",
      "    L = len(road)\n",
      "    b = 0\n",
      "    sortedx = sorted(x)\n",
      "    gi = np.zeros(x.shape, int)\n",
      "    for i in range(0,len(x)):\n",
      "        a = x[i]\n",
      "        for j in range(0, len(x)):\n",
      "            if sortedx[j] == a:\n",
      "                if j <= len(sortedx)-2: #calculating g for all but the last car\n",
      "                    b = sortedx[j+1]\n",
      "                    gi[i] = b - a - 1\n",
      "                else: \n",
      "                    gi[i] = L + sortedx[0] - sortedx[-1] - 1 #calculating g for the last car on the road\n",
      "    return gi"
     ],
     "language": "python",
     "metadata": {},
     "outputs": [],
     "prompt_number": 155
    },
    {
     "cell_type": "code",
     "collapsed": false,
     "input": [
      "def g_for_ASEP(x, v, i, road):\n",
      "    \"\"\"Takes x, v, and road arrays as well as a randomly generated integer, i, as arguments.  This function determines the empty spaces\n",
      "in front of a randomly chosen car in order to be used in the ASEP traffic model, returning a single g value\"\"\"\n",
      "    L = len(road)\n",
      "    a = x[i]\n",
      "    b = 0\n",
      "    sortedx = sorted(x)\n",
      "    for j in range(0,len(sortedx)):\n",
      "        if sortedx[j] == a:\n",
      "            if j <= len(sortedx)-2: #finding g for all but the last car\n",
      "                b = sortedx[j+1]\n",
      "                gi = b - a - 1\n",
      "            else: \n",
      "                gi = L + sortedx[0] - sortedx[-1] -1 #calculating g for the last car on the road\n",
      "    return gi\n"
     ],
     "language": "python",
     "metadata": {},
     "outputs": [],
     "prompt_number": 156
    },
    {
     "cell_type": "heading",
     "level": 5,
     "metadata": {},
     "source": [
      "Test for the g functions"
     ]
    },
    {
     "cell_type": "code",
     "collapsed": false,
     "input": [
      "i = 2\n",
      "road0, x0, v0 = create_road(40,5,10)  \n",
      "print road0, x0, v0"
     ],
     "language": "python",
     "metadata": {},
     "outputs": [
      {
       "output_type": "stream",
       "stream": "stdout",
       "text": [
        "[0 0 2 0 0 0 0 0 0 0 0 0 0 0 1 4 0 0 0 0 0 0 0 5 0 0 0 3 0 0 0 0 0 0 0 0 0\n",
        " 0 0 0] [14  2 27 15 23] [0 8 1 7 7]\n"
       ]
      }
     ],
     "prompt_number": 132
    },
    {
     "cell_type": "code",
     "collapsed": false,
     "input": [
      "g_for_STCA(x0,v0,road0)"
     ],
     "language": "python",
     "metadata": {},
     "outputs": [
      {
       "output_type": "pyout",
       "prompt_number": 134,
       "text": [
        "array([ 0, 11, 14,  7,  3])"
       ]
      }
     ],
     "prompt_number": 134
    },
    {
     "cell_type": "code",
     "collapsed": false,
     "input": [
      "g_for_ASEP(x0, v0, i, road0)"
     ],
     "language": "python",
     "metadata": {},
     "outputs": [
      {
       "output_type": "pyout",
       "prompt_number": 135,
       "text": [
        "14"
       ]
      }
     ],
     "prompt_number": 135
    },
    {
     "cell_type": "markdown",
     "metadata": {},
     "source": [
      "Both functions appear to be working"
     ]
    },
    {
     "cell_type": "heading",
     "level": 3,
     "metadata": {},
     "source": [
      "The Traffic Model Functions"
     ]
    },
    {
     "cell_type": "heading",
     "level": 5,
     "metadata": {},
     "source": [
      "CA184:"
     ]
    },
    {
     "cell_type": "code",
     "collapsed": false,
     "input": [
      "def CA184(x, v, road, v_max):\n",
      "    \"\"\"takes an array of car positions and initial velocities, a road length, and a maximum velocity as arguments. Returns\n",
      "the final positions and velocities of the cars after one time step by moving all the cars at once, following the CA184\n",
      "model.  In this model there is no possibility of random slow-downs\"\"\"\n",
      "    gi = g_for_STCA(x, v, road)\n",
      "    L = len(road)\n",
      "    for i in range(0, len(v)): \n",
      "        if gi[i] == 0: \n",
      "            v[i] = 0\n",
      "        elif v[i] >= gi[i]:\n",
      "            v[i] = gi[i]\n",
      "        elif v[i] < gi[i] and v[i] < v_max:\n",
      "            v[i] += 1\n",
      "        x[i] += v[i]\n",
      "        if x[i] > L:\n",
      "            x[i] = x[i] - L\n",
      "    return x, v\n",
      "    "
     ],
     "language": "python",
     "metadata": {},
     "outputs": [],
     "prompt_number": 137
    },
    {
     "cell_type": "heading",
     "level": 5,
     "metadata": {},
     "source": [
      "Test for CA184 model"
     ]
    },
    {
     "cell_type": "code",
     "collapsed": false,
     "input": [
      "v_max2 = 10\n",
      "L = 40\n",
      "N = 5\n",
      "road2, x2, v2 = create_road(L,N,v_max2)  \n",
      "print road2, x2, v2"
     ],
     "language": "python",
     "metadata": {},
     "outputs": [
      {
       "output_type": "stream",
       "stream": "stdout",
       "text": [
        "[0 0 4 0 0 0 0 0 0 0 0 0 0 0 0 0 0 0 0 0 3 0 0 0 0 0 2 0 0 0 0 0 0 0 5 0 1\n",
        " 0 0 0] [36 26 20  2 34] [3 5 2 4 5]\n"
       ]
      }
     ],
     "prompt_number": 138
    },
    {
     "cell_type": "code",
     "collapsed": false,
     "input": [
      "CA184(x2, v2, road2, v_max2)"
     ],
     "language": "python",
     "metadata": {},
     "outputs": [
      {
       "output_type": "pyout",
       "prompt_number": 139,
       "text": [
        "(array([40, 32, 23,  7, 35]), array([4, 6, 3, 5, 1]))"
       ]
      }
     ],
     "prompt_number": 139
    },
    {
     "cell_type": "markdown",
     "metadata": {},
     "source": [
      "The code works and agrees with what I calculate for each time step by hand."
     ]
    },
    {
     "cell_type": "heading",
     "level": 5,
     "metadata": {},
     "source": [
      "STCA:"
     ]
    },
    {
     "cell_type": "code",
     "collapsed": false,
     "input": [
      "def STCA(x,v,road,v_max,p):\n",
      "    \"\"\"Takes an array of car positions and initial velocities, a road length, a maximum velocity and a random slow-down probability p\n",
      "as arguments.  p must be a value between 1 and 100.  The final position and velocities of the cars are returned after one time step.  \n",
      "The cars are all moved at once, and the velocities are allowed to randomly decrease by 1 according to the probabilty p, allowing for \n",
      "random slow-downs, following the STCA model of traffic flow\"\"\"\n",
      "    gi = g_for_STCA(x, v, road)\n",
      "    L = len(road)\n",
      "    for i in range(0, len(v)):\n",
      "        if gi[i] == 0:\n",
      "            v[i] = 0\n",
      "        elif v[i] >= gi[i]:\n",
      "            v[i] = gi[i]\n",
      "        elif v[i] < gi[i] and v[i] < v_max:\n",
      "            v[i] += 1\n",
      "        if v[i] > 0: #Allowing the possiblity for random slowdowns\n",
      "            if random_sample < (1/100.)*p:\n",
      "                v[i] -= 1\n",
      "        x[i] += v[i]\n",
      "        if x[i] > L:\n",
      "            x[i] = x[i] - L\n",
      "    return x, v    "
     ],
     "language": "python",
     "metadata": {},
     "outputs": [],
     "prompt_number": 146
    },
    {
     "cell_type": "heading",
     "level": 5,
     "metadata": {},
     "source": [
      "Test for STCA model"
     ]
    },
    {
     "cell_type": "code",
     "collapsed": false,
     "input": [
      "v_max3 = 10\n",
      "L = 40\n",
      "N = 5\n",
      "p = 0.5\n",
      "road3, x3, v3 = create_road(L,N,v_max3)  \n",
      "print road3, x3, v3"
     ],
     "language": "python",
     "metadata": {},
     "outputs": [
      {
       "output_type": "stream",
       "stream": "stdout",
       "text": [
        "[0 0 0 1 0 5 0 0 0 0 3 4 0 0 0 0 0 0 0 0 0 2 0 0 0 0 0 0 0 0 0 0 0 0 0 0 0\n",
        " 0 0 0] [ 3 21 10 11  5] [5 3 1 1 1]\n"
       ]
      }
     ],
     "prompt_number": 147
    },
    {
     "cell_type": "code",
     "collapsed": false,
     "input": [
      "STCA(x3,v3,road3,v_max3,p)"
     ],
     "language": "python",
     "metadata": {},
     "outputs": [
      {
       "output_type": "pyout",
       "prompt_number": 148,
       "text": [
        "(array([ 4, 25, 10, 13,  7]), array([1, 4, 0, 2, 2]))"
       ]
      }
     ],
     "prompt_number": 148
    },
    {
     "cell_type": "markdown",
     "metadata": {},
     "source": [
      "The code appears to work and in running it, I saw a random slow-down so that part is working as well."
     ]
    },
    {
     "cell_type": "heading",
     "level": 5,
     "metadata": {},
     "source": [
      "ASEP"
     ]
    },
    {
     "cell_type": "code",
     "collapsed": false,
     "input": [
      "def ASEP(x,v,road,v_max):\n",
      "    \"\"\"Takes an array of car positions and initial velocities, a road length, and a maximum velocity as arguments. The final\n",
      "positions and velocities of the cars are then returned after one time step.  The cars are moved one at a time following the \n",
      "ASEP model of traffic flow\"\"\"\n",
      "    i = randint(0, len(x)-1) #choose the car to move at random\n",
      "    L = len(road)\n",
      "    gi = g_for_ASEP(x,v,i,road) \n",
      "    if gi == 0:\n",
      "        v[i] == 0\n",
      "    if v[i] > gi:\n",
      "        v[i] = gi\n",
      "    elif v[i] < gi and v[i] < v_max:\n",
      "        v[i] += 1\n",
      "    x[i] += v[i]\n",
      "    if x[i] > L:\n",
      "        x[i] = x[i] - L\n",
      "    \n",
      "    return i, x, v #return i so I can see which car was supposed to be moved while testing the function\n",
      "\n",
      "        "
     ],
     "language": "python",
     "metadata": {},
     "outputs": [],
     "prompt_number": 158
    },
    {
     "cell_type": "heading",
     "level": 5,
     "metadata": {},
     "source": [
      "Test for ASEP model"
     ]
    },
    {
     "cell_type": "code",
     "collapsed": false,
     "input": [
      "v_max4 = 10\n",
      "L = 40\n",
      "N = 5\n",
      "road4, x4, v4 = create_road(L,N,v_max4)  \n",
      "print road4, x4, v4"
     ],
     "language": "python",
     "metadata": {},
     "outputs": [
      {
       "output_type": "stream",
       "stream": "stdout",
       "text": [
        "[0 0 0 0 2 4 0 0 0 3 0 0 5 0 0 1 0 0 0 0 0 0 0 0 0 0 0 0 0 0 0 0 0 0 0 0 0\n",
        " 0 0 0] [15  4  9  5 12] [6 2 5 6 9]\n"
       ]
      }
     ],
     "prompt_number": 143
    },
    {
     "cell_type": "code",
     "collapsed": false,
     "input": [
      "ASEP(x4, v4, road4, v_max4)"
     ],
     "language": "python",
     "metadata": {},
     "outputs": [
      {
       "output_type": "pyout",
       "prompt_number": 144,
       "text": [
        "(3, array([15,  4,  9,  8, 12]), array([6, 2, 5, 3, 9]))"
       ]
      }
     ],
     "prompt_number": 144
    },
    {
     "cell_type": "markdown",
     "metadata": {},
     "source": [
      "Only one car should move at a time for this model, and according to this test, the code works"
     ]
    },
    {
     "cell_type": "heading",
     "level": 3,
     "metadata": {},
     "source": [
      "Running for more than one time step"
     ]
    },
    {
     "cell_type": "markdown",
     "metadata": {},
     "source": [
      "Now I need to write a function that allows me to run these functions for more than one time step so that I can investigate how the current of the traffic flow behaves at different densities."
     ]
    },
    {
     "cell_type": "code",
     "collapsed": false,
     "input": [
      "def mult_time_steps(N,method,L,cars,v_max,p):\n",
      "    road, x, v = create_road(L, cars, v_max) \n",
      "    if method == CA184:\n",
      "        for i in range(N):\n",
      "            CA184(x,v,road,v_max)\n",
      "    if method == STCA:\n",
      "        for i in range(N):\n",
      "            STCA(x, v, road, v_max, p)\n",
      "    if method == ASEP:\n",
      "        for i in range(N):\n",
      "            ASEP(x, v, road, v_max)\n",
      "\n",
      "    return x, v"
     ],
     "language": "python",
     "metadata": {},
     "outputs": [],
     "prompt_number": 145
    },
    {
     "cell_type": "markdown",
     "metadata": {},
     "source": [
      "Testing the mult_time_step function"
     ]
    },
    {
     "cell_type": "code",
     "collapsed": false,
     "input": [
      "v_max5 = 10\n",
      "L = 40\n",
      "N = 5\n",
      "road5, x5, v5 = create_road(L,N,v_max4)  \n",
      "print road5, x5, v5"
     ],
     "language": "python",
     "metadata": {},
     "outputs": [
      {
       "output_type": "stream",
       "stream": "stdout",
       "text": [
        "[0 0 0 0 0 4 2 0 0 0 0 0 0 0 0 0 0 0 0 0 0 0 0 0 0 0 0 0 0 0 0 0 0 0 1 5 0\n",
        " 3 0 0] [34  6 37  5 35] [1 2 1 8 1]\n"
       ]
      }
     ],
     "prompt_number": 152
    },
    {
     "cell_type": "code",
     "collapsed": false,
     "input": [
      "mult_time_steps(10,CA184,x5,v5,road5,v_max5,0) "
     ],
     "language": "python",
     "metadata": {},
     "outputs": [
      {
       "output_type": "pyout",
       "prompt_number": 151,
       "text": [
        "(array([40, 15, 24, 32,  7]), array([7, 7, 8, 7, 6]))"
       ]
      }
     ],
     "prompt_number": 151
    },
    {
     "cell_type": "code",
     "collapsed": false,
     "input": [
      "mult_time_steps(10,STCA,x5,v5,road5,v_max5,40)"
     ],
     "language": "python",
     "metadata": {},
     "outputs": [
      {
       "output_type": "pyout",
       "prompt_number": 153,
       "text": [
        "(array([23, 16, 40, 10, 31]), array([6, 5, 8, 9, 7]))"
       ]
      }
     ],
     "prompt_number": 153
    },
    {
     "cell_type": "code",
     "collapsed": false,
     "input": [
      "mult_time_steps(10,ASEP,x5,v5,road5,v_max5,0)"
     ],
     "language": "python",
     "metadata": {},
     "outputs": [
      {
       "output_type": "pyout",
       "prompt_number": 154,
       "text": [
        "(array([30, 22, 20, 21, 31]), array([0, 6, 1, 1, 7]))"
       ]
      }
     ],
     "prompt_number": 154
    },
    {
     "cell_type": "code",
     "collapsed": false,
     "input": [],
     "language": "python",
     "metadata": {},
     "outputs": []
    }
   ],
   "metadata": {}
  }
 ]
}