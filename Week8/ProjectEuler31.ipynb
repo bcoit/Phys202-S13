{
 "metadata": {
  "name": "ProjectEuler31"
 },
 "nbformat": 3,
 "nbformat_minor": 0,
 "worksheets": [
  {
   "cells": [
    {
     "cell_type": "markdown",
     "metadata": {},
     "source": [
      "Coin sums\n",
      "=\n",
      "Problem 31\n",
      "-\n",
      "In England the currency is made up of pound, \u00a3, and pence, p, and there are eight coins in general circulation:\n",
      "\n",
      "1p, 2p, 5p, 10p, 20p, 50p, \u00a31 (100p) and \u00a32 (200p).\n",
      "It is possible to make \u00a32 in the following way:\n",
      "\n",
      "1x\u00a31 + 1x50p + 2x20p + 1x5p + 1x2p + 3x1p\n",
      "How many different ways can \u00a32 be made using any number of coins?"
     ]
    },
    {
     "cell_type": "code",
     "collapsed": false,
     "input": [
      "coins = [1,2,5,10,20,50,100]\n",
      "total = 1 #Because the most obvious way is one \u00a32 coin\n",
      "goal = 200"
     ],
     "language": "python",
     "metadata": {},
     "outputs": [],
     "prompt_number": 9
    },
    {
     "cell_type": "code",
     "collapsed": false,
     "input": [
      "#This problem can be written as the equation a*100+b*50+c*20+d*10+f*5+g*2+h*1=200 where we want to find the number of\n",
      "#different coefficient combinations that make it true\n",
      "for i in range(2):\n",
      "    for j in range(4):\n",
      "        for k in range(10):\n",
      "            for l in range(20):\n",
      "                for m in range(40):\n",
      "                    for n in range(100):\n",
      "                        for o in range(200):\n",
      "                            if i*100+j*50+k*20+l*10+m*5+n*2+o*1==goal:\n",
      "                                total += 1"
     ],
     "language": "python",
     "metadata": {},
     "outputs": [],
     "prompt_number": 12
    },
    {
     "cell_type": "code",
     "collapsed": false,
     "input": [
      "print total"
     ],
     "language": "python",
     "metadata": {},
     "outputs": [
      {
       "output_type": "stream",
       "stream": "stdout",
       "text": [
        "138077\n"
       ]
      }
     ],
     "prompt_number": 13
    },
    {
     "cell_type": "code",
     "collapsed": false,
     "input": [],
     "language": "python",
     "metadata": {},
     "outputs": []
    }
   ],
   "metadata": {}
  }
 ]
}