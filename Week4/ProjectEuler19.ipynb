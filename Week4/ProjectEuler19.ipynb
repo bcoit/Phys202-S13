{
 "metadata": {
  "name": "ProjectEuler19"
 },
 "nbformat": 3,
 "nbformat_minor": 0,
 "worksheets": [
  {
   "cells": [
    {
     "cell_type": "markdown",
     "metadata": {},
     "source": [
      "Counting Sundays\n",
      "=\n",
      "Problem 19\n",
      "-"
     ]
    },
    {
     "cell_type": "markdown",
     "metadata": {},
     "source": [
      "1 Jan 1900 was a Monday.\n",
      "\n",
      "Thirty days has September,\n",
      "\n",
      "April, June and November.\n",
      "\n",
      "All the rest have thirty-one,\n",
      "\n",
      "Saving February alone,\n",
      "\n",
      "Which has twenty-eight, rain or shine.\n",
      "\n",
      "And on leap years, twenty-nine.\n",
      "\n",
      "A leap year occurs on any year evenly divisible by 4, but not on a century unless it is divisible by 400.\n",
      "\n",
      "How many Sundays fell on the first of the month during the twentieth century (1 Jan 1901 to 31 Dec 2000)?\n"
     ]
    },
    {
     "cell_type": "code",
     "collapsed": false,
     "input": [
      "months = [31,28,31,30,31,30,31,31,30,31,30,31]\n",
      "\n",
      "week = ['sun','mon','tue','wed','thu','fri','sat']\n",
      "\n",
      "leapyears = [year for year in range(0, 101) if year % 4 == 0]\n",
      "\n",
      "day = 0 # 1 Jan 1900\n",
      "month = 0 # January\n",
      "year = 0 # 1900\n",
      "weekday = 1 # Monday\n",
      "\n",
      "month_so_far = 0\n",
      "year_so_far = 0\n",
      "\n",
      "first_of_months = [] \n",
      "while year <= 100:\n",
      "    if year >= 1: #Only start counting in 1901\n",
      "        if month_so_far == 0:\n",
      "            if week[weekday] == 'sun':\n",
      "                first_of_months.append(True) #Create a list of boolean indicators, the length of which will be the answer\n",
      "\n",
      "    # increment the basic counters\n",
      "    day += 1\n",
      "    month_so_far += 1\n",
      "    year_so_far += 1\n",
      "    weekday += 1\n",
      "    \n",
      "    # check what year it is and determine when to increment to the next year\n",
      "    days_of_year = 365\n",
      "    if year in leapyears:\n",
      "        days_of_year += 1\n",
      "    if year_so_far == days_of_year:\n",
      "        year += 1\n",
      "        year_so_far = 0\n",
      "\n",
      "    # check what month it is and determine when to increment to the next\n",
      "    days_of_month = months[month]\n",
      "    if month == 1 and year in leapyears: # february\n",
      "        days_of_month += 1\n",
      "    if month_so_far >= days_of_month:\n",
      "        month += 1\n",
      "        month_so_far = 0\n",
      "    if month > len(months)-1: #Determine when to change to begining of next year\n",
      "        month = 0\n",
      "\n",
      "    # check what day of the week it is and determine when to change to the begining of the next week\n",
      "    if weekday > len(week)-1:\n",
      "        weekday = 0\n",
      "\n",
      "print len(first_of_months)"
     ],
     "language": "python",
     "metadata": {},
     "outputs": [
      {
       "output_type": "stream",
       "stream": "stdout",
       "text": [
        "171\n"
       ]
      }
     ],
     "prompt_number": 1
    },
    {
     "cell_type": "code",
     "collapsed": false,
     "input": [],
     "language": "python",
     "metadata": {},
     "outputs": []
    }
   ],
   "metadata": {}
  }
 ]
}