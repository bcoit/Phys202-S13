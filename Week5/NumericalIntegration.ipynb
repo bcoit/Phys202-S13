{
 "metadata": {
  "name": "NumericalIntegration"
 },
 "nbformat": 3,
 "nbformat_minor": 0,
 "worksheets": [
  {
   "cells": [
    {
     "cell_type": "markdown",
     "metadata": {},
     "source": [
      "Example 1\n",
      "-"
     ]
    },
    {
     "cell_type": "markdown",
     "metadata": {},
     "source": [
      "Integrate x$^4$ - 2x +1 from x=0 to x=2"
     ]
    },
    {
     "cell_type": "code",
     "collapsed": false,
     "input": [
      "f = lambda x: x**4 -2*x + 1"
     ],
     "language": "python",
     "metadata": {},
     "outputs": [],
     "prompt_number": 17
    },
    {
     "cell_type": "code",
     "collapsed": false,
     "input": [
      "N = 10\n",
      "a = 0.0\n",
      "b = 2.0\n",
      "h = (b-a)/N\n",
      "s = 0.5*f(a) + 0.5*f(b)\n",
      "for k in range(1,N):\n",
      "    s += f(a+k*h)\n",
      "print (h*s)"
     ],
     "language": "python",
     "metadata": {},
     "outputs": [
      {
       "output_type": "stream",
       "stream": "stdout",
       "text": [
        "4.50656\n"
       ]
      }
     ],
     "prompt_number": 3
    },
    {
     "cell_type": "markdown",
     "metadata": {},
     "source": [
      "The correct answer is 4.4, so the result is off by about 2%"
     ]
    },
    {
     "cell_type": "markdown",
     "metadata": {},
     "source": [
      "Exercise 1\n",
      "-"
     ]
    },
    {
     "cell_type": "code",
     "collapsed": false,
     "input": [
      "N = 100\n",
      "a = 0.0\n",
      "b = 2.0\n",
      "h = (b-a)/N\n",
      "s = 0.5*f(a) + 0.5*f(b)\n",
      "for k in range(1,N):\n",
      "    s += f(a+k*h)\n",
      "print (h*s)"
     ],
     "language": "python",
     "metadata": {},
     "outputs": [
      {
       "output_type": "stream",
       "stream": "stdout",
       "text": [
        "4.401066656\n"
       ]
      }
     ],
     "prompt_number": 10
    },
    {
     "cell_type": "code",
     "collapsed": false,
     "input": [
      "print 100*((h*s - 4.4)/4.4)"
     ],
     "language": "python",
     "metadata": {},
     "outputs": [
      {
       "output_type": "stream",
       "stream": "stdout",
       "text": [
        "0.0242421818182\n"
       ]
      }
     ],
     "prompt_number": 11
    },
    {
     "cell_type": "markdown",
     "metadata": {},
     "source": [
      "So now the error is only about .02%"
     ]
    },
    {
     "cell_type": "code",
     "collapsed": false,
     "input": [
      "N = 1000\n",
      "a = 0.0\n",
      "b = 2.0\n",
      "h = (b-a)/N\n",
      "s = 0.5*f(a) + 0.5*f(b)\n",
      "for k in range(1,N):\n",
      "    s += f(a+k*h)\n",
      "print (h*s)"
     ],
     "language": "python",
     "metadata": {},
     "outputs": [
      {
       "output_type": "stream",
       "stream": "stdout",
       "text": [
        "4.40001066667\n"
       ]
      }
     ],
     "prompt_number": 12
    },
    {
     "cell_type": "code",
     "collapsed": false,
     "input": [
      "print 100*((h*s - 4.4)/4.4)"
     ],
     "language": "python",
     "metadata": {},
     "outputs": [
      {
       "output_type": "stream",
       "stream": "stdout",
       "text": [
        "0.000242424218195\n"
       ]
      }
     ],
     "prompt_number": 13
    },
    {
     "cell_type": "markdown",
     "metadata": {},
     "source": [
      "And now the error is only .0002%"
     ]
    },
    {
     "cell_type": "markdown",
     "metadata": {},
     "source": [
      "Exercise 2\n",
      "-"
     ]
    },
    {
     "cell_type": "code",
     "collapsed": false,
     "input": [
      "N = 10\n",
      "a = 0.0\n",
      "b = 2.0\n",
      "h = (b-a)/N\n",
      "s = f(a) + f(b)\n",
      "for k in range(1,N/2+1):\n",
      "    s += 4*f(a+(2*k-1)*h)\n",
      "for k in range(1,(N/2)):\n",
      "    s += 2*f(a+2*k*h)\n",
      "print (s*h*(1/3.))\n",
      "    "
     ],
     "language": "python",
     "metadata": {},
     "outputs": [
      {
       "output_type": "stream",
       "stream": "stdout",
       "text": [
        "4.40042666667\n"
       ]
      }
     ],
     "prompt_number": 27
    },
    {
     "cell_type": "code",
     "collapsed": false,
     "input": [
      "print 100*((h*s*(1./3.) - 4.4)/4.4)"
     ],
     "language": "python",
     "metadata": {},
     "outputs": [
      {
       "output_type": "stream",
       "stream": "stdout",
       "text": [
        "0.00969696969699\n"
       ]
      }
     ],
     "prompt_number": 28
    },
    {
     "cell_type": "markdown",
     "metadata": {},
     "source": [
      "Now the error is less that 1%"
     ]
    },
    {
     "cell_type": "code",
     "collapsed": false,
     "input": [
      "N = 100\n",
      "a = 0.0\n",
      "b = 2.0\n",
      "h = (b-a)/N\n",
      "s = f(a) + f(b)\n",
      "for k in range(1,N/2+1):\n",
      "    s += 4*f(a+(2*k-1)*h)\n",
      "for k in range(1,(N/2)):\n",
      "    s += 2*f(a+2*k*h)\n",
      "print (s*h*(1/3.))"
     ],
     "language": "python",
     "metadata": {},
     "outputs": [
      {
       "output_type": "stream",
       "stream": "stdout",
       "text": [
        "4.40000004267\n"
       ]
      }
     ],
     "prompt_number": 29
    },
    {
     "cell_type": "code",
     "collapsed": false,
     "input": [
      "print 100*((h*s*(1./3.) - 4.4)/4.4)"
     ],
     "language": "python",
     "metadata": {},
     "outputs": [
      {
       "output_type": "stream",
       "stream": "stdout",
       "text": [
        "9.69696969187e-07\n"
       ]
      }
     ],
     "prompt_number": 30
    },
    {
     "cell_type": "code",
     "collapsed": false,
     "input": [
      "N = 1000\n",
      "a = 0.0\n",
      "b = 2.0\n",
      "h = (b-a)/N\n",
      "s = f(a) + f(b)\n",
      "for k in range(1,N/2+1):\n",
      "    s += 4*f(a+(2*k-1)*h)\n",
      "for k in range(1,(N/2)):\n",
      "    s += 2*f(a+2*k*h)\n",
      "print (s*h*(1/3.))"
     ],
     "language": "python",
     "metadata": {},
     "outputs": [
      {
       "output_type": "stream",
       "stream": "stdout",
       "text": [
        "4.4\n"
       ]
      }
     ],
     "prompt_number": 32
    },
    {
     "cell_type": "markdown",
     "metadata": {},
     "source": [
      "This is the exact answer, making Simpson's Rule much more accurate than the Trapazoidal Rule for the same number of slices"
     ]
    },
    {
     "cell_type": "markdown",
     "metadata": {},
     "source": [
      "Example 2\n",
      "-"
     ]
    },
    {
     "cell_type": "code",
     "collapsed": false,
     "input": [
      "import scipy.integrate as integrate"
     ],
     "language": "python",
     "metadata": {},
     "outputs": [],
     "prompt_number": 47
    },
    {
     "cell_type": "code",
     "collapsed": false,
     "input": [
      "from scipy.special import jv\n",
      "result = integrate.quad(lambda x: jv(2.5,x), 0, 4.5)\n",
      "print result"
     ],
     "language": "python",
     "metadata": {},
     "outputs": [
      {
       "output_type": "stream",
       "stream": "stdout",
       "text": [
        "(1.1178179380783249, 7.866317182537226e-09)\n"
       ]
      }
     ],
     "prompt_number": 37
    },
    {
     "cell_type": "markdown",
     "metadata": {},
     "source": [
      "Exercise 3\n",
      "-"
     ]
    },
    {
     "cell_type": "code",
     "collapsed": false,
     "input": [
      "data = loadtxt(\"velocities\",float)"
     ],
     "language": "python",
     "metadata": {},
     "outputs": [],
     "prompt_number": 39
    },
    {
     "cell_type": "code",
     "collapsed": false,
     "input": [
      "a = integrate.trapz(data)\n",
      "print a"
     ],
     "language": "python",
     "metadata": {},
     "outputs": [
      {
       "output_type": "stream",
       "stream": "stdout",
       "text": [
        "[  0.          0.534739    1.068847    1.602166    2.1345415   2.665828\n",
        "   3.1958855   3.7245835   4.251799    4.7774175   5.301335    5.823456\n",
        "   6.343696    6.8619805   7.3782455   7.892438    8.404516    8.9144485\n",
        "   9.422214    9.927804   10.4312195  10.9324725  11.431586   11.928592\n",
        "  12.4235335  12.916463   13.407441   13.8965385  14.383833   14.869412\n",
        "  15.353368   15.8358015  16.316819   16.7965325  17.275059   17.7525195\n",
        "  18.2290385  18.704744   19.1797665  19.654237   20.128288   20.6020535\n",
        "  21.075665   21.5492545  22.0229525  22.496886   22.97118    23.445956\n",
        "  23.921331   24.3974185  24.8743265  25.3521575  25.831008   26.310968\n",
        "  26.7921215  27.2745455  27.758309   28.243474   28.7300955  29.2182185\n",
        "  29.707883   30.199118   30.6919465  31.1863825  31.682432   32.180093\n",
        "  32.6793555  33.180202   33.682607   34.186539   34.6919575  35.198817\n",
        "  35.707064   36.21664    36.7274805  37.239515   37.7526695  38.266864\n",
        "  38.782015   39.2980355  39.814835   40.3323215  40.8503995  41.368973\n",
        "  41.887943   42.4072125  42.926682   43.446254   43.9658305  44.485315\n",
        "  45.0046135  45.523634   46.042287   46.560485   47.078145   47.5951875\n",
        "  48.1115365  48.627122   49.1418765  49.6557395  50.168654 ]\n"
       ]
      }
     ],
     "prompt_number": 52
    },
    {
     "cell_type": "code",
     "collapsed": false,
     "input": [
      "c = integrate.simps(data)\n",
      "print c"
     ],
     "language": "python",
     "metadata": {},
     "outputs": [
      {
       "output_type": "stream",
       "stream": "stdout",
       "text": [
        "[  0.          0.534739    1.068847    1.602166    2.1345415   2.665828\n",
        "   3.1958855   3.7245835   4.251799    4.7774175   5.301335    5.823456\n",
        "   6.343696    6.8619805   7.3782455   7.892438    8.404516    8.9144485\n",
        "   9.422214    9.927804   10.4312195  10.9324725  11.431586   11.928592\n",
        "  12.4235335  12.916463   13.407441   13.8965385  14.383833   14.869412\n",
        "  15.353368   15.8358015  16.316819   16.7965325  17.275059   17.7525195\n",
        "  18.2290385  18.704744   19.1797665  19.654237   20.128288   20.6020535\n",
        "  21.075665   21.5492545  22.0229525  22.496886   22.97118    23.445956\n",
        "  23.921331   24.3974185  24.8743265  25.3521575  25.831008   26.310968\n",
        "  26.7921215  27.2745455  27.758309   28.243474   28.7300955  29.2182185\n",
        "  29.707883   30.199118   30.6919465  31.1863825  31.682432   32.180093\n",
        "  32.6793555  33.180202   33.682607   34.186539   34.6919575  35.198817\n",
        "  35.707064   36.21664    36.7274805  37.239515   37.7526695  38.266864\n",
        "  38.782015   39.2980355  39.814835   40.3323215  40.8503995  41.368973\n",
        "  41.887943   42.4072125  42.926682   43.446254   43.9658305  44.485315\n",
        "  45.0046135  45.523634   46.042287   46.560485   47.078145   47.5951875\n",
        "  48.1115365  48.627122   49.1418765  49.6557395  50.168654 ]\n"
       ]
      }
     ],
     "prompt_number": 50
    },
    {
     "cell_type": "code",
     "collapsed": false,
     "input": [
      "x = arange(0,101,1)\n",
      "plot(x,a)\n"
     ],
     "language": "python",
     "metadata": {},
     "outputs": [
      {
       "output_type": "pyout",
       "prompt_number": 55,
       "text": [
        "[<matplotlib.lines.Line2D at 0x108f36c50>]"
       ]
      },
      {
       "output_type": "display_data",
       "png": "[encoded data removed]"
      }
     ],
     "prompt_number": 55
    },
    {
     "cell_type": "code",
     "collapsed": false,
     "input": [],
     "language": "python",
     "metadata": {},
     "outputs": []
    }
   ],
   "metadata": {}
  }
 ]
}