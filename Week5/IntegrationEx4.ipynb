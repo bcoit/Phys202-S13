{
 "metadata": {
  "name": "IntegrationEx4"
 },
 "nbformat": 3,
 "nbformat_minor": 0,
 "worksheets": [
  {
   "cells": [
    {
     "cell_type": "markdown",
     "metadata": {},
     "source": [
      "Question 1\n",
      "-\n",
      "$\\int^{x}_{0}e^{-t^2}dx$"
     ]
    },
    {
     "cell_type": "code",
     "collapsed": false,
     "input": [
      "f = lambda t: e**(-t**2)"
     ],
     "language": "python",
     "metadata": {},
     "outputs": [],
     "prompt_number": 6
    },
    {
     "cell_type": "markdown",
     "metadata": {},
     "source": [
      "Using Simpson's rule"
     ]
    },
    {
     "cell_type": "code",
     "collapsed": false,
     "input": [
      "x = arange(0.,3.01,0.1)\n",
      "N = 1000\n",
      "a = 0.0\n",
      "b = x\n",
      "h = (b-a)/N\n",
      "s = f(a) + f(b)\n",
      "for k in range(1,N/2+1):\n",
      "    s += 4*f(a+(2*k-1)*h)\n",
      "for k in range(1,(N/2)):\n",
      "    s += 2*f(a+2*k*h)\n",
      "Ex = (s*h*(1/3.))\n",
      "print Ex"
     ],
     "language": "python",
     "metadata": {},
     "outputs": [
      {
       "output_type": "stream",
       "stream": "stdout",
       "text": [
        "[ 0.          0.09966766  0.19736503  0.29123788  0.37965284  0.46128101\n",
        "  0.53515353  0.60068567  0.65766986  0.70624151  0.74682413  0.78006143\n",
        "  0.80674476  0.82774299  0.84394071  0.85618839  0.86526623  0.87186159\n",
        "  0.87655863  0.87983761  0.88208139  0.88358644  0.88457602  0.88521381\n",
        "  0.88561675  0.88586627  0.88601775  0.88610788  0.88616045  0.8861905\n",
        "  0.88620735]\n"
       ]
      }
     ],
     "prompt_number": 9
    },
    {
     "cell_type": "markdown",
     "metadata": {},
     "source": [
      "So the integral from x = 0 to x = 3 is 0.88620735 according to this method"
     ]
    },
    {
     "cell_type": "heading",
     "level": 5,
     "metadata": {},
     "source": [
      "Part b"
     ]
    },
    {
     "cell_type": "code",
     "collapsed": false,
     "input": [
      "\n",
      "plot(x,Ex,color = 'red', linewidth = 2)\n",
      "title(\"Analytical Evaluation of $\\int^x_0e^{-t^2}dt$\",fontsize = 16)\n",
      "show()"
     ],
     "language": "python",
     "metadata": {},
     "outputs": [
      {
       "output_type": "display_data",
       "png": "[encoded data removed]"
      }
     ],
     "prompt_number": 11
    },
    {
     "cell_type": "markdown",
     "metadata": {},
     "source": [
      "Question 2\n",
      "-\n",
      "###Particle in a Box"
     ]
    },
    {
     "cell_type": "markdown",
     "metadata": {},
     "source": [
      "$\\psi_n(x) = \\sqrt{\\frac{2}{L}}\\sin{\\frac{n\\pi x}{L}}$\n",
      "\n",
      "n = 1,2,3,..."
     ]
    },
    {
     "cell_type": "code",
     "collapsed": false,
     "input": [
      "import scipy.integrate as integrate\n",
      "L = 1.\n",
      "n_1 = lambda x: ((2./L)**(1/2.)*sin(pi*x/L))**2\n",
      "n_2 = lambda x: ((2./L)**(1./2.)*sin(2.*pi*x/L))**2"
     ],
     "language": "python",
     "metadata": {},
     "outputs": [],
     "prompt_number": 27
    },
    {
     "cell_type": "code",
     "collapsed": false,
     "input": [
      "integrate.quad(n_1, L/3., L/2.) #still need to do trapz and question about bins"
     ],
     "language": "python",
     "metadata": {},
     "outputs": [
      {
       "output_type": "pyout",
       "prompt_number": 78,
       "text": [
        "(0.3044988905221147, 3.380616792304666e-15)"
       ]
      }
     ],
     "prompt_number": 78
    },
    {
     "cell_type": "code",
     "collapsed": false,
     "input": [
      "integrate.quad(n_2, L/3., L/2.)"
     ],
     "language": "python",
     "metadata": {},
     "outputs": [
      {
       "output_type": "pyout",
       "prompt_number": 79,
       "text": [
        "(0.09775055473894276, 1.0852491654105595e-15)"
       ]
      }
     ],
     "prompt_number": 79
    },
    {
     "cell_type": "code",
     "collapsed": false,
     "input": [
      "x = arange(L/3.,L/2.,0.0000001)\n",
      "n_1 = ((2./L)**(1/2.)*sin(pi*x/L))**2\n",
      "n_2 = ((2./L)**(1./2.)*sin(2.*pi*x/L))**2"
     ],
     "language": "python",
     "metadata": {},
     "outputs": [],
     "prompt_number": 107
    },
    {
     "cell_type": "code",
     "collapsed": false,
     "input": [
      "trapz(n_1,x)"
     ],
     "language": "python",
     "metadata": {},
     "outputs": [
      {
       "output_type": "pyout",
       "prompt_number": 108,
       "text": [
        "0.30449875719837322"
       ]
      }
     ],
     "prompt_number": 108
    },
    {
     "cell_type": "code",
     "collapsed": false,
     "input": [
      "trapz(n_2,x)"
     ],
     "language": "python",
     "metadata": {},
     "outputs": [
      {
       "output_type": "pyout",
       "prompt_number": 106,
       "text": [
        "0.097750554739851517"
       ]
      }
     ],
     "prompt_number": 106
    },
    {
     "cell_type": "code",
     "collapsed": false,
     "input": [
      "bins = (1/2.-1/3.)/.0000001\n",
      "print bins"
     ],
     "language": "python",
     "metadata": {},
     "outputs": [
      {
       "output_type": "stream",
       "stream": "stdout",
       "text": [
        "1666666.66667\n"
       ]
      }
     ],
     "prompt_number": 111
    },
    {
     "cell_type": "markdown",
     "metadata": {},
     "source": [
      "So it took 1666666.66667 to get the integral accurate to 6 decimal places using trapz"
     ]
    },
    {
     "cell_type": "heading",
     "level": 5,
     "metadata": {},
     "source": [
      "Part b"
     ]
    },
    {
     "cell_type": "code",
     "collapsed": false,
     "input": [
      "L = 1.\n",
      "x = arange(0., L+.001, 0.01)\n",
      "n_1 = ((2./L)**(1/2.)*sin(pi*x/L))**2\n",
      "n_2 = ((2./L)**(1./2.)*sin(2.*pi*x/L))**2"
     ],
     "language": "python",
     "metadata": {},
     "outputs": [],
     "prompt_number": 70
    },
    {
     "cell_type": "code",
     "collapsed": false,
     "input": [
      "xmin = 1/3.; xmax = 1/2.; ymin = 0.; ymax = 2.5\n",
      "plot(x, n_1,label = 'ground state', linewidth = 2)\n",
      "plot(x, n_2, label = 'first excited state', linewidth = 2, color = 'red')\n",
      "plot([xmin, xmin], [ymin, ymax], color ='k', linestyle = '--') #plotting boundaries of integral\n",
      "plot([xmax, xmax], [ymin, ymax], color = 'k', linestyle = '--')\n",
      "legend(loc = 'upper right')\n",
      "xlabel('Length of box (L=1)', fontsize = 14)\n",
      "ylabel('Probability', fontsize = 14)\n",
      "title('Particle in a box $|\\psi|^2$', fontsize = 16)\n",
      "show()"
     ],
     "language": "python",
     "metadata": {},
     "outputs": [
      {
       "output_type": "display_data",
       "png": "[encoded data removed]"
      }
     ],
     "prompt_number": 73
    },
    {
     "cell_type": "markdown",
     "metadata": {},
     "source": [
      "Question 3\n",
      "-\n",
      "###Hermite Polynomials"
     ]
    },
    {
     "cell_type": "code",
     "collapsed": false,
     "input": [
      "def H(n,x):\n",
      "    if n == 0:\n",
      "        Hn = 1\n",
      "    elif n == 1:\n",
      "        Hn = 2*x\n",
      "    else:\n",
      "        H_now = 2*x\n",
      "        H_prev = 1\n",
      "        for i in range(1, n):\n",
      "            Hn = 2*x*H_now - 2*i*H_prev\n",
      "            H_prev = H_now\n",
      "            H_now = Hn\n",
      "    return Hn"
     ],
     "language": "python",
     "metadata": {},
     "outputs": [],
     "prompt_number": 78
    },
    {
     "cell_type": "code",
     "collapsed": false,
     "input": [
      "x = arange(-4.,4.01,0.1)\n",
      "H0 = np.ones(x.shape)\n",
      "plot(x, H0, linewidth = 3, label = 'H_0',color = 'blue')\n",
      "plot(x, H(1,x),linewidth = 2.5, label = 'H_1',color = 'red')\n",
      "plot(x, H(2,x),linewidth = 2, label = 'H_2',color = 'orange')\n",
      "plot(x, H(3,x),linewidth = 2, label = 'H_2',color = 'green')\n",
      "legend(loc = 'lower right')\n",
      "title(\"First 4 Hermite polynomials\",fontsize = 16)\n",
      "show() #still need to plot the n=0 line"
     ],
     "language": "python",
     "metadata": {},
     "outputs": [
      {
       "output_type": "display_data",
       "png": "[encoded data removed]"
      }
     ],
     "prompt_number": 79
    },
    {
     "cell_type": "heading",
     "level": 5,
     "metadata": {},
     "source": [
      "Part b"
     ]
    },
    {
     "cell_type": "code",
     "collapsed": false,
     "input": [
      "x = arange(-10.,10.01,0.1)\n",
      "plot(x, H(30,x),linewidth = 2, color = 'red')\n",
      "title('Hermite polynomial, n = 30', fontsize = 16)\n",
      "show()"
     ],
     "language": "python",
     "metadata": {},
     "outputs": [
      {
       "output_type": "display_data",
       "png": "[encoded data removed]"
      }
     ],
     "prompt_number": 80
    },
    {
     "cell_type": "heading",
     "level": 5,
     "metadata": {},
     "source": [
      "Part c"
     ]
    },
    {
     "cell_type": "code",
     "collapsed": false,
     "input": [
      "from math import factorial\n",
      "n = 5\n",
      "psi_n = lambda x: e**(-x**2/2.)*H(n,x)/((2.**n*math.factorial(n)*pi**(1/2.))**(1/2.))\n",
      "func = lambda x: (x**2) * psi_n(x)**2\n",
      "squared = integrate.quad(func,-inf,inf)\n",
      "uncertainty = squared[0]**(1/2.)\n",
      "print uncertainty"
     ],
     "language": "python",
     "metadata": {},
     "outputs": [
      {
       "output_type": "stream",
       "stream": "stdout",
       "text": [
        "2.34520787991\n"
       ]
      }
     ],
     "prompt_number": 84
    },
    {
     "cell_type": "code",
     "collapsed": false,
     "input": [
      "error = abs((uncertainty-2.3)/2.3)\n",
      "print error"
     ],
     "language": "python",
     "metadata": {},
     "outputs": [
      {
       "output_type": "stream",
       "stream": "stdout",
       "text": [
        "0.0196555999616\n"
       ]
      }
     ],
     "prompt_number": 85
    },
    {
     "cell_type": "markdown",
     "metadata": {},
     "source": [
      "Question 4\n",
      "-\n",
      "###Monte Carlo integration in one dimension"
     ]
    },
    {
     "cell_type": "code",
     "collapsed": false,
     "input": [
      "f = lambda x: 4*(1-x**2)**(1/2.)"
     ],
     "language": "python",
     "metadata": {},
     "outputs": [],
     "prompt_number": 33
    },
    {
     "cell_type": "code",
     "collapsed": false,
     "input": [
      "def MC(N):\n",
      "    xmin = 0\n",
      "    xmax = 1\n",
      "    subx = x[logical_and((x > xmin),(x < xmax))]\n",
      "    ymax = max(f(subx))*1.05\n",
      "    ymin = 0\n",
      "    samples_x = random_sample(N);\n",
      "    samples_y = ymin + (ymax-ymin)*random_sample(N);\n",
      "    newmask = (samples_y < f(samples_x))\n",
      "    F = (xmax-xmin)*(ymax-ymin)*sum(newmask)/newmask.size\n",
      "    return F"
     ],
     "language": "python",
     "metadata": {},
     "outputs": [],
     "prompt_number": 34
    },
    {
     "cell_type": "code",
     "collapsed": false,
     "input": [
      "ans = MC(1000)\n",
      "print ans"
     ],
     "language": "python",
     "metadata": {},
     "outputs": [
      {
       "output_type": "stream",
       "stream": "stdout",
       "text": [
        "3.2004\n"
       ]
      }
     ],
     "prompt_number": 65
    },
    {
     "cell_type": "heading",
     "level": 5,
     "metadata": {},
     "source": [
      "Part b"
     ]
    },
    {
     "cell_type": "code",
     "collapsed": false,
     "input": [
      "diff_pt_a = abs(ans - pi)\n",
      "print diff_pt_a"
     ],
     "language": "python",
     "metadata": {},
     "outputs": [
      {
       "output_type": "stream",
       "stream": "stdout",
       "text": [
        "0.0588073464102\n"
       ]
      }
     ],
     "prompt_number": 66
    },
    {
     "cell_type": "code",
     "collapsed": false,
     "input": [
      "def Err(N):\n",
      "    est = MC(N)\n",
      "    diff = abs(est - pi)\n",
      "    return diff"
     ],
     "language": "python",
     "metadata": {},
     "outputs": [],
     "prompt_number": 54
    },
    {
     "cell_type": "code",
     "collapsed": false,
     "input": [
      "Err(1000)"
     ],
     "language": "python",
     "metadata": {},
     "outputs": [
      {
       "output_type": "pyout",
       "prompt_number": 61,
       "text": [
        "7.3464102068321324e-06"
       ]
      }
     ],
     "prompt_number": 61
    },
    {
     "cell_type": "heading",
     "level": 5,
     "metadata": {},
     "source": [
      "Part c"
     ]
    },
    {
     "cell_type": "heading",
     "level": 5,
     "metadata": {},
     "source": [
      "Part d"
     ]
    },
    {
     "cell_type": "markdown",
     "metadata": {},
     "source": [
      "Question 5\n",
      "-\n",
      "###Mass Density"
     ]
    },
    {
     "cell_type": "code",
     "collapsed": false,
     "input": [
      "zmin = -0.5; zmax = 0.5\n",
      "ymin = -0.1; ymax = 0.1\n",
      "xmin = -0.1; xmax = 0.1\n",
      "mass_density = lambda z,y: 100*((y+0.1)+z**2)"
     ],
     "language": "python",
     "metadata": {},
     "outputs": [],
     "prompt_number": 26
    },
    {
     "cell_type": "markdown",
     "metadata": {},
     "source": [
      "I know I need to set up a triple integral in order to evaluate the mass, center of mass, and moment of inertia, but I have been unable to figure out how to set the integrals up.  "
     ]
    },
    {
     "cell_type": "heading",
     "level": 5,
     "metadata": {},
     "source": [
      "Part b"
     ]
    },
    {
     "cell_type": "markdown",
     "metadata": {},
     "source": [
      "Because I couldn't figure out part a, I am unable to fully work out part b.  However, the way I would test the algorithms is to set the mass density to 1.  Then the total mass should just be the volume*1 = volume and the center of mass should be the origin.  If the integrals in part a were properly set up, changing the mass_density to equal 1 should give approximately these answers, allowing you to check their accuracy."
     ]
    }
   ],
   "metadata": {}
  }
 ]
}