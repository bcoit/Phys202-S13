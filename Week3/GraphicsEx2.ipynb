{
 "metadata": {
  "name": "GraphicsEx2"
 },
 "nbformat": 3,
 "nbformat_minor": 0,
 "worksheets": [
  {
   "cells": [
    {
     "cell_type": "markdown",
     "metadata": {},
     "source": [
      "###Question 1\n",
      "Formating Equations"
     ]
    },
    {
     "cell_type": "markdown",
     "metadata": {},
     "source": [
      "$\\psi_k(x) = \\left(\\frac{ik - a tanh(ax)}{ik + a}\\right)e^{+ikx}$"
     ]
    },
    {
     "cell_type": "markdown",
     "metadata": {},
     "source": [
      "$v_1 = m_2\\sqrt{\\frac{2G}{M}\\left(\\frac{1}{r} - \\frac{1}{r_0}\\right)}$"
     ]
    },
    {
     "cell_type": "markdown",
     "metadata": {},
     "source": [
      "$f(\\theta) = \\frac{h}{p}\\sum\\limits_{\\ell=0}^{\\infty}(2\\ell + 1)e^{i\\delta_\\ell} sin \\delta_\\ell P_\\ell (cos\\theta)$"
     ]
    },
    {
     "cell_type": "markdown",
     "metadata": {},
     "source": [
      "$\\frac{d\\sigma}{d\\Omega} = \\frac{k \\pi^{2}(\\pi - \\theta)}{mu_0^2\\theta^2(2\\pi - \\theta)^{2} sin \\theta}$"
     ]
    },
    {
     "cell_type": "markdown",
     "metadata": {},
     "source": [
      "$\\langle f \\rangle = \\frac{1}{\\tau}\\int_{0}^{\\tau} f(t)dt$"
     ]
    },
    {
     "cell_type": "markdown",
     "metadata": {},
     "source": [
      "$\\Omega_S = \\omega\\frac{sin\\alpha}{sin\\theta} = \\frac{L}{\\lambda_1} = \\omega\\frac{\\sqrt{\\lambda_3^2 + (\\lambda_1^2 - \\lambda_3^2) sin\\alpha}}{\\lambda_1}$"
     ]
    },
    {
     "cell_type": "markdown",
     "metadata": {},
     "source": [
      "###Question 2\n",
      "Plotting a wave function"
     ]
    },
    {
     "cell_type": "code",
     "collapsed": false,
     "input": [
      "t = arange(-3.14,3.15,0.01)\n",
      "U = -(1/cosh(t))**2\n",
      "i = 1j\n",
      "p1 = (tanh(t))**2 \n",
      "plot(t,U,label=\"$U(x)$\",linewidth=2)\n",
      "plot(t,p1,color=\"red\",label=\"$\\psi^{2}, k=0.0$\",linewidth=2)\n",
      "legend()\n"
     ],
     "language": "python",
     "metadata": {},
     "outputs": [
      {
       "output_type": "display_data",
       "png": "[encoded data removed]"
      }
     ],
     "prompt_number": 28
    },
    {
     "cell_type": "code",
     "collapsed": false,
     "input": [],
     "language": "python",
     "metadata": {},
     "outputs": []
    }
   ],
   "metadata": {}
  }
 ]
}