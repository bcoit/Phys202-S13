{
 "metadata": {
  "name": "ProjectEuler17"
 },
 "nbformat": 3,
 "nbformat_minor": 0,
 "worksheets": [
  {
   "cells": [
    {
     "cell_type": "markdown",
     "metadata": {},
     "source": [
      "Number letter counts\n",
      "=\n",
      "Problem 17\n",
      "-\n",
      "If the numbers 1 to 5 are written out in words: one, two, three, four, five, then there are 3 + 3 + 5 + 4 + 4 = 19 letters used in total.\n",
      "\n",
      "If all the numbers from 1 to 1000 (one thousand) inclusive were written out in words, how many letters would be used?\n",
      "\n",
      "\n",
      "NOTE: Do not count spaces or hyphens. For example, 342 (three hundred and forty-two) contains 23 letters and 115 (one hundred and fifteen) contains 20 letters. The use of \"and\" when writing out numbers is in compliance with British usage."
     ]
    },
    {
     "cell_type": "code",
     "collapsed": false,
     "input": [
      "spellings = {1:'one',2:'two',3:'three',4:'four',5:'five',6:'six',7:'seven',8:'eight',9:'nine',10:'ten',11:'eleven',12:'twelve',\n",
      "             13:'thirteen',14:'fourteen',15:'fifteen',16:'sixteen',17:'seventeen',18:'eighteen',19:'nineteen',20:'twenty',\n",
      "             30:'thirty',40:'forty',50:'fifty',60:'sixty',70:'seventy',80:'eighty',90:'ninety',100:'hundred',1000:'thousand'}\n",
      "#all numbers between 1 and 1000 can be written using these numbers"
     ],
     "language": "python",
     "metadata": {},
     "outputs": [],
     "prompt_number": 36
    },
    {
     "cell_type": "code",
     "collapsed": false,
     "input": [
      "n = 1000\n",
      "count = 0\n",
      "for i in range(1,n+1):\n",
      "    num = str(i) #so we can use slicing to examine each place in the number separatly\n",
      "    if len(num) == 1:\n",
      "        #the numbers 1 through 9 are all in the dictionary\n",
      "        c = len(spellings[i])\n",
      "    elif len(num) == 2:\n",
      "        num_1 = num[0]\n",
      "        num_2 = num[1]\n",
      "        if num < 20:\n",
      "            #the numbers 10 through 20 are also in the dictionary\n",
      "            c = len(spellings[i])\n",
      "        elif num_2 == 0:\n",
      "            #the numbers 20,30,40,50,...\n",
      "            c = len(spellings[i])\n",
      "        else:\n",
      "            num1 = num_1 + '0'\n",
      "            c = len(spellings[int(num1)]) + len(spellings[int(num_2)])\n",
      "    elif len(num) == 3:\n",
      "        num_1 = num[0]\n",
      "        num_2 = num[1]\n",
      "        num_3 = num[2]\n",
      "        if num_2 == 0 and num_3 == 0:\n",
      "            #100,200,300,...\n",
      "            c = len(spellings[int(num_1)]) + len(spellings[100])\n",
      "        elif num_2 != 0 and num_3 == 0:\n",
      "            #110,120,130,...\n",
      "            num2 = num_2 + '0'\n",
      "            c = len(spellings[int(num_1)]) + len(spellings[100]) + len('and') + len(spellings[int(num2)])\n",
      "        elif num_3 != 0 and num_2 == 1:\n",
      "            #111,112,113,...\n",
      "            c = len(spellings[int(num_1)]) + len(spellings[100]) + len('and') + len(spellings[int(num_2 + num_3)])\n",
      "        elif num_3 != 0 and num_2 == 0:\n",
      "            #101,102,103,...\n",
      "            c = len(spellings[int(num_1)]) + len(spellings[100]) + len('and') + len(spellings[int(num_3)])\n",
      "        else:\n",
      "            num2 = num_2 + '0'\n",
      "            c = len(spellings[int(num_1)]) + len(spellings[100]) + len('and') + len(spellings[int(num2)]) + len(spellings[int(num_3)])\n",
      "    elif len(num) == 4:\n",
      "        #the number 1000\n",
      "        c = len(spellings[1]) + len(spellings[1000])\n",
      "    count += c\n",
      "    print count\n",
      "    \n",
      "            "
     ],
     "language": "python",
     "metadata": {},
     "outputs": [
      {
       "ename": "KeyError",
       "evalue": "0",
       "output_type": "pyerr",
       "traceback": [
        "\u001b[1;31m---------------------------------------------------------------------------\u001b[0m\n\u001b[1;31mKeyError\u001b[0m                                  Traceback (most recent call last)",
        "\u001b[1;32m<ipython-input-42-a54ed50bfc4b>\u001b[0m in \u001b[0;36m<module>\u001b[1;34m()\u001b[0m\n\u001b[0;32m     17\u001b[0m         \u001b[1;32melse\u001b[0m\u001b[1;33m:\u001b[0m\u001b[1;33m\u001b[0m\u001b[0m\n\u001b[0;32m     18\u001b[0m             \u001b[0mnum1\u001b[0m \u001b[1;33m=\u001b[0m \u001b[0mstr\u001b[0m\u001b[1;33m(\u001b[0m\u001b[0mnum_1\u001b[0m\u001b[1;33m)\u001b[0m \u001b[1;33m+\u001b[0m \u001b[1;34m'0'\u001b[0m\u001b[1;33m\u001b[0m\u001b[0m\n\u001b[1;32m---> 19\u001b[1;33m             \u001b[0mc\u001b[0m \u001b[1;33m=\u001b[0m \u001b[0mlen\u001b[0m\u001b[1;33m(\u001b[0m\u001b[0mspellings\u001b[0m\u001b[1;33m[\u001b[0m\u001b[0mint\u001b[0m\u001b[1;33m(\u001b[0m\u001b[0mnum1\u001b[0m\u001b[1;33m)\u001b[0m\u001b[1;33m]\u001b[0m\u001b[1;33m)\u001b[0m \u001b[1;33m+\u001b[0m \u001b[0mlen\u001b[0m\u001b[1;33m(\u001b[0m\u001b[0mspellings\u001b[0m\u001b[1;33m[\u001b[0m\u001b[0mint\u001b[0m\u001b[1;33m(\u001b[0m\u001b[0mnum_2\u001b[0m\u001b[1;33m)\u001b[0m\u001b[1;33m]\u001b[0m\u001b[1;33m)\u001b[0m\u001b[1;33m\u001b[0m\u001b[0m\n\u001b[0m\u001b[0;32m     20\u001b[0m     \u001b[1;32melif\u001b[0m \u001b[0mlen\u001b[0m\u001b[1;33m(\u001b[0m\u001b[0mnum\u001b[0m\u001b[1;33m)\u001b[0m \u001b[1;33m==\u001b[0m \u001b[1;36m3\u001b[0m\u001b[1;33m:\u001b[0m\u001b[1;33m\u001b[0m\u001b[0m\n\u001b[0;32m     21\u001b[0m         \u001b[0mnum_1\u001b[0m \u001b[1;33m=\u001b[0m \u001b[0mnum\u001b[0m\u001b[1;33m[\u001b[0m\u001b[1;36m0\u001b[0m\u001b[1;33m]\u001b[0m\u001b[1;33m\u001b[0m\u001b[0m\n",
        "\u001b[1;31mKeyError\u001b[0m: 0"
       ]
      },
      {
       "output_type": "stream",
       "stream": "stdout",
       "text": [
        "3\n",
        "6\n",
        "11\n",
        "15\n",
        "19\n",
        "22\n",
        "27\n",
        "32\n",
        "36\n"
       ]
      }
     ],
     "prompt_number": 42
    },
    {
     "cell_type": "markdown",
     "metadata": {},
     "source": [
      "I'm not sure why this code isn't working.  The test code below works, but I can't get the full thing to work even though I've been trying for a very long time at this point."
     ]
    },
    {
     "cell_type": "heading",
     "level": 5,
     "metadata": {},
     "source": [
      "Test Case"
     ]
    },
    {
     "cell_type": "code",
     "collapsed": false,
     "input": [
      "n = 5\n",
      "count = 0\n",
      "for i in range(1,n+1):\n",
      "    num = str(i) #so we can use slicing to examine each place in the number separatly\n",
      "    if len(num) == 1:\n",
      "        #the numbers 1 through 9 are all in the dictionary\n",
      "        c = len(spellings[i])\n",
      "    elif len(num) == 2:\n",
      "        num_1 = num[0]\n",
      "        num_2 = num[1]\n",
      "        if num <= 20:\n",
      "            #the numbers 10 through 20 are also in the dictionary\n",
      "            c = len(spellings[i])\n",
      "        elif num_2 == 0:\n",
      "            #the numbers 30,40,50,...\n",
      "            c = len(spellings[i])\n",
      "        else:\n",
      "            num1 = str(num_1 + '0')\n",
      "            c = len(spellings[int(num1)]) + len(spellings[int(num_2)])\n",
      "    elif len(num) == 3:\n",
      "        num_1 = num[0]\n",
      "        num_2 = num[1]\n",
      "        num_3 = num[2]\n",
      "        if num_2 == 0 and num_3 == 0:\n",
      "            #100,200,300,...\n",
      "            c = len(spellings[int(num_1)]) + len(spellings[100])\n",
      "        elif num_2 != 0 and num_3 == 0:\n",
      "            #110,120,130,...\n",
      "            num2 = num_2 + '0'\n",
      "            c = len(spellings[int(num_1)]) + len(spellings[100]) + len('and') + len(spellings[int(num2)])\n",
      "        elif num_3 != 0 and num_2 == 1:\n",
      "            #111,112,113,...\n",
      "            c = len(spellings[int(num_1)]) + len(spellings[100]) + len('and') + len(spellings[int(num_2 + num_3)])\n",
      "        elif num_3 != 0 and num_2 == 0:\n",
      "            #101,102,103,...\n",
      "            c = len(spellings[int(num_1)]) + len(spellings[100]) + len('and') + len(spellings[int(num_3)])\n",
      "        else:\n",
      "            num2 = num_2 + '0'\n",
      "            c = len(spellings[int(num_1)]) + len(spellings[100]) + len('and') + len(spellings[int(num2)]) + len(spellings[int(num_3)])\n",
      "    elif len(num) == 4:\n",
      "        #the number 1000\n",
      "        c = len(spellings[1]) + len(spellings[1000])\n",
      "    count += c\n",
      "print \"The test case answer is \" + str(count)"
     ],
     "language": "python",
     "metadata": {},
     "outputs": [
      {
       "output_type": "stream",
       "stream": "stdout",
       "text": [
        "The test case answer is 19\n"
       ]
      }
     ],
     "prompt_number": 27
    },
    {
     "cell_type": "markdown",
     "metadata": {},
     "source": [
      "The code works for the first five numbers"
     ]
    },
    {
     "cell_type": "code",
     "collapsed": false,
     "input": [],
     "language": "python",
     "metadata": {},
     "outputs": [],
     "prompt_number": 44
    },
    {
     "cell_type": "code",
     "collapsed": false,
     "input": [],
     "language": "python",
     "metadata": {},
     "outputs": []
    }
   ],
   "metadata": {}
  }
 ]
}